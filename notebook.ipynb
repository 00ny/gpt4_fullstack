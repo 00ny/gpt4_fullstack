{
 "cells": [
  {
   "cell_type": "code",
   "execution_count": 3,
   "metadata": {},
   "outputs": [
    {
     "name": "stdout",
     "output_type": "stream",
     "text": [
      "투자하기 좋은 회사를 선정하기 위해서는 몇 가지 기준을 고려해야 합니다. 저는 다음과 같은 기준을 중요하게 생각합니다:\n",
      "\n",
      "1. 재무 건전성: 회사의 재무 상태가 안정적이고 건전한지 확인해야 합니다. 이를 위해서는 회사의 재무제표를 분석하고, 부채 비율, 자기자본 비율, 영업이익률 등을 살펴볼 필요가 있습니다.\n",
      "\n",
      "2. 성장 가능성: 투자할 회사가 성장 가능성이 있는지 확인해야 합니다. 이를 위해서는 산업 동향, 경쟁력, 신제품 개발 등을 고려해야 합니다.\n",
      "\n",
      "3. 경영진의 역량: 회사의 경영진이 경험이 풍부하고 전략적인 결정을 내릴 수 있는 역량을 가지고 있는지 확인해야 합니다. 이를 위해서는 경영진의 경력과 성과를 살펴보는 것이 중요합니다.\n",
      "\n",
      "4. 배당 정책: 투자할 회사가 배당을 지속적으로 지급하는지 확인해야 합니다. 이를 위해서는 회사의 배당 이력과 배당 정책을 살펴보는 것이 필요합니다.\n",
      "\n",
      "5. 가치 평가: 회사의 주가가 현재 가치에 비해 고평가되지 않았는지 확인해야 합니다. 이를 위해서는 주가 수익비율(P/E ratio), 주가 자산비율(P/B ratio) 등을 고려해야 합니다.\n",
      "\n",
      "위의 기준을 고려하여 투자하기 좋은 회사 10개를 추천해드리겠습니다:\n",
      "\n",
      "1. 삼성전자: 한국을 대표하는 대기업으로 재무 건전성과 성장 가능성이 뛰어납니다.\n",
      "2. SK하이닉스: 반도체 산업의 선두주로 성장 가능성이 높습니다.\n",
      "3. 현대자동차: 글로벌 자동차 시장에서 경쟁력을 갖추고 있으며, 배당 정책이 좋습니다.\n",
      "4. LG화학: 전기차 및 배터리 산업에서 성장 가능성이 높은 기업입니다.\n",
      "5. 셀트리온: 바이오의약품 분야에서 세계적인 경쟁력을 갖추고 있습니다.\n",
      "6. KB금융: 금융 서비스 분야에서 안정적인 재무 건전성을 보여주고 있습니다.\n",
      "7. POSCO: 철강 산업에서 경쟁력을 갖추고 있으며, 배당 정책이 좋습니다.\n",
      "8. 한국전력공사: 전력 공급 분야에서 안정적인 수익을 보여주고 있습니다.\n",
      "9. SK텔레콤: 통신 서비스 분야에서 성장 가능성이 높은 기업입니다.\n",
      "10. LG전자: 가전 제품 분야에서 경쟁력을 갖추고 있으며, 배당 정책이 좋습니다.\n",
      "\n",
      "이 회사들은 재무 건전성, 성장 가능성, 경영진의 역량, 배당 정책, 가치 평가 등의 기준을 충족하며, 투자하기 좋은 회사로 평가됩니다. 하지만 투자는 위험을 동반하므로, 자세한 분석과 조사를 통해 투자 결정을 내리는 것이 중요합니다.알겠습니다. 먼저, 투자하기 좋은 회사 중 하나인 삼성전자의 1년 전 주식 가격과 현재 주식 가격을 알려드리겠습니다.\n",
      "\n",
      "1년 전 삼성전자의 주식 가격은 50,000원이었고, 현재 주식 가격은 60,000원입니다. 이를 바탕으로 향후 1년간의 주식 가격을 예상해보겠습니다.\n",
      "\n",
      "주식 가격은 다양한 요인에 의해 영향을 받기 때문에 정확한 예측은 어렵습니다. 하지만 삼성전자는 대기업으로서 재무 건전성과 성장 가능성이 높은 회사로 평가되고 있습니다. 따라서, 향후 1년간 삼성전자의 주식 가격이 상승할 가능성이 높을 것으로 예상됩니다.\n",
      "\n",
      "하지만 투자는 위험을 동반하므로, 주식 가격 예측은 참고자료로만 활용하시고, 자세한 분석과 조사를 통해 투자 결정을 내리는 것이 중요합니다."
     ]
    },
    {
     "data": {
      "text/plain": [
       "AIMessageChunk(content='알겠습니다. 먼저, 투자하기 좋은 회사 중 하나인 삼성전자의 1년 전 주식 가격과 현재 주식 가격을 알려드리겠습니다.\\n\\n1년 전 삼성전자의 주식 가격은 50,000원이었고, 현재 주식 가격은 60,000원입니다. 이를 바탕으로 향후 1년간의 주식 가격을 예상해보겠습니다.\\n\\n주식 가격은 다양한 요인에 의해 영향을 받기 때문에 정확한 예측은 어렵습니다. 하지만 삼성전자는 대기업으로서 재무 건전성과 성장 가능성이 높은 회사로 평가되고 있습니다. 따라서, 향후 1년간 삼성전자의 주식 가격이 상승할 가능성이 높을 것으로 예상됩니다.\\n\\n하지만 투자는 위험을 동반하므로, 주식 가격 예측은 참고자료로만 활용하시고, 자세한 분석과 조사를 통해 투자 결정을 내리는 것이 중요합니다.')"
      ]
     },
     "execution_count": 3,
     "metadata": {},
     "output_type": "execute_result"
    }
   ],
   "source": [
    "from langchain.chat_models import ChatOpenAI\n",
    "from langchain.prompts import ChatPromptTemplate\n",
    "from langchain.callbacks import StreamingStdOutCallbackHandler\n",
    "#ChatPromptTemplate은 template을 message로부터 만든다.\n",
    "#PromptTemplate은 그냥 string을 이용해서 template을 만들지.\n",
    "\n",
    "#step 1. prompt 작성\n",
    "invest_template = ChatPromptTemplate.from_messages([\n",
    "    (\"system\",\"너는 한국의 투자 전문가이다. 한국말만 쓴다. 투자하기 좋은 회사를 선정하기 위한 너의 기준을 세우고, 그 기준에 맞춰서 투자하기 좋은 회사의 이름과 이유를 함께 작성해\"),\n",
    "    (\"human\",\"나는 투자하기 좋은 {corporation} 10개가 알고 싶어.\")\n",
    "])\n",
    "\n",
    "stoke_template = ChatPromptTemplate.from_messages([\n",
    "    (\"system\",\"너는 한국 주식 전문가이다. 입력받은 회사의 현재 주식 가격과 1년 전 주식 가격을 작성하고, 향후 1년간 주식 가격을 예상해\"),\n",
    "    (\"human\",\"나는 투자하기 좋은 회사 {stoke}의 1년전 가격과 현재 가격, 그리고 향후 1년간의 가격을 알고 싶어.\")\n",
    "])\n",
    "\n",
    "#step 2. chatmodel 설정\n",
    "chat = ChatOpenAI(temperature=0.1, streaming=True, callbacks=[StreamingStdOutCallbackHandler()]) #chat-model\n",
    "\n",
    "#step 3. chatmodel에게 prompt 보내기\n",
    "invest_chain = invest_template | chat\n",
    "\n",
    "stoke_chain = stoke_template | chat\n",
    "\n",
    "final_chain = {\"stoke\":invest_chain} | stoke_chain\n",
    "\n",
    "final_chain.invoke({\"corporation\":\"corporation\"})"
   ]
  },
  {
   "cell_type": "code",
   "execution_count": null,
   "metadata": {},
   "outputs": [],
   "source": []
  }
 ],
 "metadata": {
  "kernelspec": {
   "display_name": "env",
   "language": "python",
   "name": "python3"
  },
  "language_info": {
   "codemirror_mode": {
    "name": "ipython",
    "version": 3
   },
   "file_extension": ".py",
   "mimetype": "text/x-python",
   "name": "python",
   "nbconvert_exporter": "python",
   "pygments_lexer": "ipython3",
   "version": "3.11.6"
  }
 },
 "nbformat": 4,
 "nbformat_minor": 2
}
